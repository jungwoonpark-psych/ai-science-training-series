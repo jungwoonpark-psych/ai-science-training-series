{
 "cells": [
  {
   "cell_type": "code",
   "execution_count": 1,
   "id": "4c806373-b87b-4cb9-a86b-49607efd7aa0",
   "metadata": {},
   "outputs": [
    {
     "name": "stdout",
     "output_type": "stream",
     "text": [
      "testing...\n"
     ]
    }
   ],
   "source": [
    "import os, sys\n",
    "print('testing...')"
   ]
  },
  {
   "cell_type": "code",
   "execution_count": null,
   "id": "b92851cf-66a4-48d5-8851-66c78cfd4348",
   "metadata": {},
   "outputs": [],
   "source": []
  }
 ],
 "metadata": {
  "kernelspec": {
   "display_name": "Python 3 (ipykernel)",
   "language": "python",
   "name": "python3"
  },
  "language_info": {
   "codemirror_mode": {
    "name": "ipython",
    "version": 3
   },
   "file_extension": ".py",
   "mimetype": "text/x-python",
   "name": "python",
   "nbconvert_exporter": "python",
   "pygments_lexer": "ipython3",
   "version": "3.9.15"
  }
 },
 "nbformat": 4,
 "nbformat_minor": 5
}

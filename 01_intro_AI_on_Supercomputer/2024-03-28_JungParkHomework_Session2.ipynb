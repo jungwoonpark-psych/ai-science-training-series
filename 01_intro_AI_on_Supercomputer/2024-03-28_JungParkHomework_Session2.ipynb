{
 "cells": [
  {
   "cell_type": "code",
   "execution_count": 3,
   "id": "6bdee7ac-10ce-448b-8b47-de281cc938fe",
   "metadata": {},
   "outputs": [
    {
     "ename": "ModuleNotFoundError",
     "evalue": "No module named 'pandas'",
     "output_type": "error",
     "traceback": [
      "\u001b[0;31m---------------------------------------------------------------------------\u001b[0m",
      "\u001b[0;31mModuleNotFoundError\u001b[0m                       Traceback (most recent call last)",
      "Cell \u001b[0;32mIn[3], line 1\u001b[0m\n\u001b[0;32m----> 1\u001b[0m \u001b[38;5;28;01mimport\u001b[39;00m \u001b[38;5;21;01mpandas\u001b[39;00m \u001b[38;5;28;01mas\u001b[39;00m \u001b[38;5;21;01mpd\u001b[39;00m\n\u001b[1;32m      2\u001b[0m \u001b[38;5;28;01mimport\u001b[39;00m \u001b[38;5;21;01mnumpy\u001b[39;00m \u001b[38;5;28;01mas\u001b[39;00m \u001b[38;5;21;01mnp\u001b[39;00m\n\u001b[1;32m      3\u001b[0m \u001b[38;5;28;01mimport\u001b[39;00m \u001b[38;5;21;01mmatplotlib\u001b[39;00m\u001b[38;5;21;01m.\u001b[39;00m\u001b[38;5;21;01mpyplot\u001b[39;00m \u001b[38;5;28;01mas\u001b[39;00m \u001b[38;5;21;01mplt\u001b[39;00m\n",
      "\u001b[0;31mModuleNotFoundError\u001b[0m: No module named 'pandas'"
     ]
    }
   ],
   "source": [
    "import pandas as pd\n",
    "import numpy as np\n",
    "import matplotlib.pyplot as plt\n",
    "import IPython.display as ipydis\n",
    "import time"
   ]
  },
  {
   "cell_type": "code",
   "execution_count": 17,
   "id": "f35ecace-d31f-42c1-9504-c812b8342181",
   "metadata": {},
   "outputs": [
    {
     "ename": "NameError",
     "evalue": "name 'pd' is not defined",
     "output_type": "error",
     "traceback": [
      "\u001b[0;31m---------------------------------------------------------------------------\u001b[0m",
      "\u001b[0;31mNameError\u001b[0m                                 Traceback (most recent call last)",
      "Cell \u001b[0;32mIn[17], line 2\u001b[0m\n\u001b[1;32m      1\u001b[0m get_ipython()\u001b[38;5;241m.\u001b[39msystem(\u001b[38;5;124m'\u001b[39m\u001b[38;5;124m [ -e ./slimmed_realestate_data.csv ] || wget https://raw.githubusercontent.com/argonne-lcf/ai-science-training-series/main/01_intro_AI_on_Supercomputer/slimmed_realestate_data.csv\u001b[39m\u001b[38;5;124m'\u001b[39m)\n\u001b[0;32m----> 2\u001b[0m data \u001b[38;5;241m=\u001b[39m \u001b[43mpd\u001b[49m\u001b[38;5;241m.\u001b[39mread_csv(\u001b[38;5;124m'\u001b[39m\u001b[38;5;124mslimmed_realestate_data.csv\u001b[39m\u001b[38;5;124m'\u001b[39m)\n\u001b[1;32m      3\u001b[0m \u001b[38;5;28mprint\u001b[39m(data\u001b[38;5;241m.\u001b[39mcolumns)\n",
      "\u001b[0;31mNameError\u001b[0m: name 'pd' is not defined"
     ]
    }
   ],
   "source": [
    "! [ -e ./slimmed_realestate_data.csv ] || wget https://raw.githubusercontent.com/argonne-lcf/ai-science-training-series/main/01_intro_AI_on_Supercomputer/slimmed_realestate_data.csv\n",
    "data = pd.read_csv('slimmed_realestate_data.csv')\n",
    "print(data.columns)"
   ]
  },
  {
   "cell_type": "code",
   "execution_count": 1,
   "id": "63baa624-a7f0-4107-b34c-e1c296da7d32",
   "metadata": {},
   "outputs": [
    {
     "ename": "NameError",
     "evalue": "name 'data' is not defined",
     "output_type": "error",
     "traceback": [
      "\u001b[0;31m---------------------------------------------------------------------------\u001b[0m",
      "\u001b[0;31mNameError\u001b[0m                                 Traceback (most recent call last)",
      "Cell \u001b[0;32mIn[1], line 1\u001b[0m\n\u001b[0;32m----> 1\u001b[0m n \u001b[38;5;241m=\u001b[39m \u001b[38;5;28mlen\u001b[39m(\u001b[43mdata\u001b[49m)\n\u001b[1;32m      2\u001b[0m x \u001b[38;5;241m=\u001b[39m data[\u001b[38;5;124m'\u001b[39m\u001b[38;5;124mGrLivArea\u001b[39m\u001b[38;5;124m'\u001b[39m]\u001b[38;5;241m.\u001b[39mto_numpy()\n\u001b[1;32m      3\u001b[0m y \u001b[38;5;241m=\u001b[39m data[\u001b[38;5;124m'\u001b[39m\u001b[38;5;124mSalePrice\u001b[39m\u001b[38;5;124m'\u001b[39m]\u001b[38;5;241m.\u001b[39mto_numpy()\n",
      "\u001b[0;31mNameError\u001b[0m: name 'data' is not defined"
     ]
    }
   ],
   "source": [
    "n = len(data)\n",
    "x = data['GrLivArea'].to_numpy()\n",
    "y = data['SalePrice'].to_numpy()\n",
    "sum_xy = np.sum(x*y)\n",
    "sum_x = np.sum(x)\n",
    "sum_y = np.sum(y)\n",
    "sum_x2 = np.sum(x*x)\n",
    "denominator = n * sum_x2 - sum_x * sum_x\n",
    "m = (n * sum_xy - sum_x * sum_y) / denominator\n",
    "b = (sum_y * sum_x2 - sum_x * sum_xy) / denominator\n",
    "print('y = %f * x + %f' % (m,b))\n",
    "\n",
    "# saving these for later comparison\n",
    "m_calc = m\n",
    "b_calc = b\n",
    "\n",
    "def model(x,m,b):\n",
    "   return m * x + b\n",
    "def loss(x,y,m,b):\n",
    "   y_predicted = model(x,m,b)\n",
    "   return np.power( y - y_predicted, 2 )\n",
    "def updated_m(x,y,m,b,learning_rate):\n",
    "   dL_dm = - 2 * x * (y - model(x,m,b))\n",
    "   dL_dm = np.mean(dL_dm)\n",
    "   return m - learning_rate * dL_dm\n",
    "\n",
    "def updated_b(x,y,m,b,learning_rate):\n",
    "   dL_db = - 2 * (y - model(x,m,b))\n",
    "   dL_db = np.mean(dL_db)\n",
    "   return b - learning_rate * dL_db"
   ]
  },
  {
   "cell_type": "code",
   "execution_count": null,
   "id": "edc9b279-da3b-4db5-bba7-05d3c7844deb",
   "metadata": {},
   "outputs": [],
   "source": [
    "# set our initial slope and intercept\n",
    "m = 5.\n",
    "b = 1000.\n",
    "\n",
    "# batch_size = 60\n",
    "# set a learning rate for each parameter\n",
    "learning_rate_m = 1e-7\n",
    "learning_rate_b = 1e-1\n",
    "# use these to plot our progress over time\n",
    "loss_history = []\n",
    "batch_size = 60\n",
    "# we run our loop N times\n",
    "loop_N = 30\n",
    "for i in range(loop_N):\n",
    "   \n",
    "   # convert panda data to numpy arrays, one for the \"Ground Living Area\" and one for \"Sale Price\"\n",
    "   data_batch = data.sample(batch_size, replace=False)\n",
    "   data_x = data_batch['GrLivArea'].to_numpy()\n",
    "   data_y = data_batch['SalePrice'].to_numpy()\n",
    "   \n",
    "   # update our slope and intercept based on the current values\n",
    "   m = updated_m(data_x,data_y,m,b,learning_rate_m)\n",
    "   b = updated_b(data_x,data_y,m,b,learning_rate_b)\n",
    "   learning_rate_m = learning_rate_m- 1e-7/(loop_N+1)\n",
    "   learning_rate_b = learning_rate_b- 1e-1/(loop_N+1)\n",
    "    \n",
    "\n",
    "   # calculate the loss value\n",
    "   loss_value = np.mean(loss(data_x,data_y,m,b))\n",
    "\n",
    "   # keep a history of our loss values\n",
    "   loss_history.append(loss_value)\n",
    "\n",
    "   # print our progress\n",
    "   print('[%03d]  dy_i = %.2f * x + %.2f     previously calculated: y_i = %.2f * x + %.2f    loss: %f' % (i,m,b,m_calc,b_calc,loss_value))\n",
    "   \n",
    "\n",
    "   \n",
    "\n"
   ]
  }
 ],
 "metadata": {
  "kernelspec": {
   "display_name": "datascience/conda-2023-01-10",
   "language": "python",
   "name": "conda-2023-01-10"
  },
  "language_info": {
   "codemirror_mode": {
    "name": "ipython",
    "version": 3
   },
   "file_extension": ".py",
   "mimetype": "text/x-python",
   "name": "python",
   "nbconvert_exporter": "python",
   "pygments_lexer": "ipython3",
   "version": "3.10.9"
  }
 },
 "nbformat": 4,
 "nbformat_minor": 5
}
